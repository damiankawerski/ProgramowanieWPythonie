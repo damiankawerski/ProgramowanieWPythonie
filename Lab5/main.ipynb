{
 "cells": [
  {
   "cell_type": "code",
   "execution_count": 2,
   "metadata": {},
   "outputs": [],
   "source": [
    "import numpy as np"
   ]
  },
  {
   "cell_type": "code",
   "execution_count": 5,
   "metadata": {},
   "outputs": [
    {
     "data": {
      "text/plain": [
       "array([[7., 7., 7., 7., 7., 7., 7., 7., 7., 7.],\n",
       "       [7., 7., 7., 7., 7., 7., 7., 7., 7., 7.],\n",
       "       [7., 7., 7., 7., 7., 7., 7., 7., 7., 7.],\n",
       "       [7., 7., 7., 7., 7., 7., 7., 7., 7., 7.],\n",
       "       [7., 7., 7., 7., 7., 7., 7., 7., 7., 7.],\n",
       "       [7., 7., 7., 7., 7., 7., 7., 7., 7., 7.],\n",
       "       [7., 7., 7., 7., 7., 7., 7., 7., 7., 7.],\n",
       "       [7., 7., 7., 7., 7., 7., 7., 7., 7., 7.],\n",
       "       [7., 7., 7., 7., 7., 7., 7., 7., 7., 7.],\n",
       "       [7., 7., 7., 7., 7., 7., 7., 7., 7., 7.]])"
      ]
     },
     "execution_count": 5,
     "metadata": {},
     "output_type": "execute_result"
    }
   ],
   "source": [
    "zero = np.zeros((10, 10)) + 7\n",
    "zero"
   ]
  },
  {
   "cell_type": "code",
   "execution_count": 8,
   "metadata": {},
   "outputs": [
    {
     "data": {
      "text/plain": [
       "array([[7, 7, 7, 7, 7, 7, 7, 7, 7, 7],\n",
       "       [7, 7, 7, 7, 7, 7, 7, 7, 7, 7],\n",
       "       [7, 7, 7, 7, 7, 7, 7, 7, 7, 7],\n",
       "       [7, 7, 7, 7, 7, 7, 7, 7, 7, 7],\n",
       "       [7, 7, 7, 7, 7, 7, 7, 7, 7, 7],\n",
       "       [7, 7, 7, 7, 7, 7, 7, 7, 7, 7],\n",
       "       [7, 7, 7, 7, 7, 7, 7, 7, 7, 7],\n",
       "       [7, 7, 7, 7, 7, 7, 7, 7, 7, 7],\n",
       "       [7, 7, 7, 7, 7, 7, 7, 7, 7, 7],\n",
       "       [7, 7, 7, 7, 7, 7, 7, 7, 7, 7]])"
      ]
     },
     "execution_count": 8,
     "metadata": {},
     "output_type": "execute_result"
    }
   ],
   "source": [
    "siedem = np.full((10, 10), 7)\n",
    "siedem"
   ]
  },
  {
   "cell_type": "code",
   "execution_count": 11,
   "metadata": {},
   "outputs": [
    {
     "data": {
      "text/plain": [
       "array([[0.54474579, 0.6561322 , 0.36890329, 0.10970902, 0.92648447],\n",
       "       [0.85694642, 0.72072403, 0.6186608 , 0.27597705, 0.08736793],\n",
       "       [0.48437152, 0.92541249, 0.81250398, 0.69494099, 0.79472556],\n",
       "       [0.6421756 , 0.12883205, 0.65706061, 0.66822335, 0.11953165],\n",
       "       [0.83459973, 0.81412176, 0.24080072, 0.53911692, 0.31098212]])"
      ]
     },
     "execution_count": 11,
     "metadata": {},
     "output_type": "execute_result"
    }
   ],
   "source": [
    "ls = np.random.random((5, 5))\n",
    "ls"
   ]
  },
  {
   "cell_type": "code",
   "execution_count": 14,
   "metadata": {},
   "outputs": [
    {
     "data": {
      "text/plain": [
       "array([[59, 87, 20, 61, 16],\n",
       "       [79, 73, 70, 98, 41],\n",
       "       [23, 62, 75, 73,  6],\n",
       "       [ 5, 45, 87, 23,  1],\n",
       "       [12, 10, 30, 80, 96]])"
      ]
     },
     "execution_count": 14,
     "metadata": {},
     "output_type": "execute_result"
    }
   ],
   "source": [
    "lc = np.random.randint(0, 100, (5, 5))\n",
    "lc"
   ]
  },
  {
   "cell_type": "code",
   "execution_count": 217,
   "metadata": {},
   "outputs": [
    {
     "data": {
      "text/plain": [
       "array([[[  5,  88,  70,  91,  28, 157, 101, 145, 158,  21],\n",
       "        [174, 220, 253, 117,  98, 150,  41, 143, 152, 101],\n",
       "        [137, 218, 177, 203, 156, 216,  18,  45,  26,  55],\n",
       "        [129,   4, 157, 137, 126, 179,  49, 166, 234,  35],\n",
       "        [218, 187, 185, 164, 254, 228,  33, 124,  43,  72],\n",
       "        [211,  88, 128,   8, 133, 122,  93,  59, 230, 187],\n",
       "        [ 74,  57,   5,   5,  47, 171,  76, 240, 185, 120],\n",
       "        [ 38,  70,  14, 128,   1,  73,  33,  66, 241, 207],\n",
       "        [189, 232, 122, 250, 192, 158, 129, 211, 172,  78],\n",
       "        [218, 155,  21, 151, 148,  30,  54, 138,   3,  24]],\n",
       "\n",
       "       [[168, 241, 100, 122, 141, 236, 224, 236, 103, 105],\n",
       "        [100, 121, 247,  93, 157, 233, 239, 108, 183, 254],\n",
       "        [213,  67, 133,  85, 160,  80, 117,  78,  85, 150],\n",
       "        [247, 109,  46, 196, 189, 234,  86,  58, 245,  24],\n",
       "        [142, 177, 240, 245, 166, 170, 230, 194,   9, 136],\n",
       "        [ 52, 168, 188,  60, 138,  74,  41, 108, 163, 218],\n",
       "        [ 93, 137, 238, 229,  66,  89, 112,  35,   5, 195],\n",
       "        [154, 161,  34,  69, 217, 155, 112,  32,   2, 230],\n",
       "        [194,  33,  61,  31, 251,  74, 228, 100, 232,  28],\n",
       "        [227, 105, 174,  77,  28,  30, 164,  75,  46, 131]],\n",
       "\n",
       "       [[217,  75, 231, 197, 239, 206, 102,  60, 235, 238],\n",
       "        [ 79,  91, 174, 157,  43, 254, 141, 140, 145, 233],\n",
       "        [220, 251,   9, 149, 153, 226, 231, 214, 244, 186],\n",
       "        [175,  45,  38, 110, 158, 255,  76, 154, 137, 208],\n",
       "        [ 34, 102,  54,  93,  81, 233, 161, 172,  92,   2],\n",
       "        [ 55,  66,   2, 133, 237, 149, 246,  16,   9, 221],\n",
       "        [ 85,  40, 158, 231, 225, 104, 213, 209, 170, 161],\n",
       "        [111, 139, 133, 229, 124, 230, 128, 115, 210,  65],\n",
       "        [ 59, 245,  99, 145,  78, 245,  59,  86,  62, 101],\n",
       "        [149,  84, 137,  74,  65, 175,  88, 126, 218, 199]]])"
      ]
     },
     "execution_count": 217,
     "metadata": {},
     "output_type": "execute_result"
    }
   ],
   "source": [
    "pic = np.random.randint(0, 256, size = (3, 10,10))\n",
    "pic"
   ]
  },
  {
   "cell_type": "code",
   "execution_count": 245,
   "metadata": {},
   "outputs": [
    {
     "data": {
      "text/plain": [
       "array([[ 0,  1,  2,  3,  4,  5,  6,  7,  8,  9],\n",
       "       [10, 11, 12, 13, 14, 15, 16, 17, 18, 19],\n",
       "       [20, 21, 22, 23, 24, 25, 26, 27, 28, 29],\n",
       "       [30, 31, 32, 33, 34, 35, 36, 37, 38, 39],\n",
       "       [40, 41, 42, 43, 44, 45, 46, 47, 48, 49],\n",
       "       [50, 51, 52, 53, 54, 55, 56, 57, 58, 59],\n",
       "       [60, 61, 62, 63, 64, 65, 66, 67, 68, 69],\n",
       "       [70, 71, 72, 73, 74, 75, 76, 77, 78, 79],\n",
       "       [80, 81, 82, 83, 84, 85, 86, 87, 88, 89],\n",
       "       [90, 91, 92, 93, 94, 95, 96, 97, 98, 99]])"
      ]
     },
     "execution_count": 245,
     "metadata": {},
     "output_type": "execute_result"
    }
   ],
   "source": [
    "a = np.arange(100).reshape(10, 10)\n",
    "a"
   ]
  },
  {
   "cell_type": "code",
   "execution_count": 246,
   "metadata": {},
   "outputs": [
    {
     "data": {
      "text/plain": [
       "41"
      ]
     },
     "execution_count": 246,
     "metadata": {},
     "output_type": "execute_result"
    }
   ],
   "source": [
    "a[4,1]"
   ]
  },
  {
   "cell_type": "code",
   "execution_count": 247,
   "metadata": {},
   "outputs": [
    {
     "data": {
      "text/plain": [
       "array([[66, 67, 68],\n",
       "       [76, 77, 78],\n",
       "       [86, 87, 88]])"
      ]
     },
     "execution_count": 247,
     "metadata": {},
     "output_type": "execute_result"
    }
   ],
   "source": [
    "a[4]\n",
    "a[:,1]\n",
    "a[6:9, 6:9]"
   ]
  },
  {
   "cell_type": "code",
   "execution_count": 264,
   "metadata": {},
   "outputs": [
    {
     "data": {
      "text/plain": [
       "array([  0,  42,  84, 126, 168])"
      ]
     },
     "execution_count": 264,
     "metadata": {},
     "output_type": "execute_result"
    }
   ],
   "source": [
    "a = np.arange(100) * 2\n",
    "maska = [not bool(i%7 and i%3) for i in range(100)]\n",
    "a[np.logical_and(a % 7 == 0, a % 3 == 0)]"
   ]
  },
  {
   "cell_type": "code",
   "execution_count": 279,
   "metadata": {},
   "outputs": [
    {
     "data": {
      "text/plain": [
       "<matplotlib.image.AxesImage at 0x7fe68230a9d0>"
      ]
     },
     "execution_count": 279,
     "metadata": {},
     "output_type": "execute_result"
    },
    {
     "data": {
      "image/png": "[encoded data removed]",
      "text/plain": [
       "<Figure size 640x480 with 1 Axes>"
      ]
     },
     "metadata": {},
     "output_type": "display_data"
    }
   ],
   "source": [
    "x = np.linspace(-2*np.pi, 2*np.pi, 100)\n",
    "\n",
    "y = np.linspace(-2*np.pi, 2*np.pi, 100)\n",
    "\n",
    "X, Y = np.meshgrid(x, y)\n",
    "\n",
    "\n",
    "\n",
    "import matplotlib.pyplot as plt\n",
    "\n",
    "plt.imshow(np.exp(-(X ** 2 + Y ** 2)), cmap = 'hot')"
   ]
  },
  {
   "cell_type": "code",
   "execution_count": 284,
   "metadata": {},
   "outputs": [
    {
     "data": {
      "text/plain": [
       "array([[ 80,  40,  57],\n",
       "       [ 72,   8,  41],\n",
       "       [104,  72,  85]])"
      ]
     },
     "execution_count": 284,
     "metadata": {},
     "output_type": "execute_result"
    }
   ],
   "source": [
    "punkty = np.array([\n",
    "    [90, 50, 67],\n",
    "    [87, 23, 56],\n",
    "    [99, 67, 80]\n",
    "])\n",
    "\n",
    "testy = np.array([100,80,120])\n",
    "kary = np.array([-10, -15, 5]).reshape(-1, 1)\n",
    "\n",
    "np.round(punkty + kary, 2)\n"
   ]
  }
 ],
 "metadata": {
  "kernelspec": {
   "display_name": "Python 3",
   "language": "python",
   "name": "python3"
  },
  "language_info": {
   "codemirror_mode": {
    "name": "ipython",
    "version": 3
   },
   "file_extension": ".py",
   "mimetype": "text/x-python",
   "name": "python",
   "nbconvert_exporter": "python",
   "pygments_lexer": "ipython3",
   "version": "3.11.2"
  }
 },
 "nbformat": 4,
 "nbformat_minor": 2
}
