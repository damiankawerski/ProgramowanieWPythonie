{
 "cells": [
  {
   "cell_type": "markdown",
   "id": "8fc1269c",
   "metadata": {},
   "source": [
    "Zadanie 1:"
   ]
  },
  {
   "cell_type": "code",
   "execution_count": 5,
   "id": "6fdda9cc",
   "metadata": {},
   "outputs": [
    {
     "data": {
      "text/plain": [
       "[1,\n",
       " 2,\n",
       " 'A',\n",
       " 4,\n",
       " 'B',\n",
       " 'A',\n",
       " 7,\n",
       " 8,\n",
       " 'A',\n",
       " 'B',\n",
       " 11,\n",
       " 'A',\n",
       " 13,\n",
       " 14,\n",
       " 'AB',\n",
       " 16,\n",
       " 17,\n",
       " 'A',\n",
       " 19,\n",
       " 'B']"
      ]
     },
     "execution_count": 5,
     "metadata": {},
     "output_type": "execute_result"
    }
   ],
   "source": [
    "def abc(n):\n",
    "    for i in range(1, n+1):\n",
    "        if i % 15 == 0:\n",
    "            yield \"AB\"\n",
    "        elif i % 3 == 0:\n",
    "            yield \"A\"\n",
    "        elif i % 5 == 0:\n",
    "            yield \"B\"\n",
    "        else:\n",
    "            yield i\n",
    "\n",
    "# Przykład użycia:\n",
    "list(abc(20))\n"
   ]
  },
  {
   "cell_type": "markdown",
   "id": "c5356a23",
   "metadata": {},
   "source": [
    "Zadanie 2:"
   ]
  },
  {
   "cell_type": "code",
   "execution_count": 9,
   "id": "b3686a4a",
   "metadata": {},
   "outputs": [
    {
     "data": {
      "text/plain": [
       "[354224848179261915075,\n",
       " 573147844013817084101,\n",
       " 927372692193078999176,\n",
       " 1500520536206896083277,\n",
       " 2427893228399975082453,\n",
       " 3928413764606871165730,\n",
       " 6356306993006846248183,\n",
       " 10284720757613717413913,\n",
       " 16641027750620563662096,\n",
       " 26925748508234281076009,\n",
       " 43566776258854844738105,\n",
       " 70492524767089125814114,\n",
       " 114059301025943970552219,\n",
       " 184551825793033096366333,\n",
       " 298611126818977066918552,\n",
       " 483162952612010163284885,\n",
       " 781774079430987230203437,\n",
       " 1264937032042997393488322,\n",
       " 2046711111473984623691759,\n",
       " 3311648143516982017180081,\n",
       " 5358359254990966640871840]"
      ]
     },
     "execution_count": 9,
     "metadata": {},
     "output_type": "execute_result"
    }
   ],
   "source": [
    "def fibonnaci():\n",
    "    a, b = 0, 1\n",
    "    while True:\n",
    "        yield a\n",
    "        a, b = b, a + b\n",
    "        \n",
    "\n",
    "from itertools import islice\n",
    "\n",
    "list(islice(fibonnaci(), 100 ,121))"
   ]
  },
  {
   "cell_type": "markdown",
   "id": "51927060",
   "metadata": {},
   "source": [
    "Zadanie 3:"
   ]
  },
  {
   "cell_type": "code",
   "execution_count": 8,
   "id": "64201898",
   "metadata": {},
   "outputs": [
    {
     "data": {
      "text/plain": [
       "[3.414213562373095,\n",
       " 3.414213562373095,\n",
       " 3.414213562373095,\n",
       " 3.414213562373095,\n",
       " 3.414213562373095,\n",
       " 3.414213562373095]"
      ]
     },
     "execution_count": 8,
     "metadata": {},
     "output_type": "execute_result"
    }
   ],
   "source": [
    "from itertools import permutations\n",
    "from math import dist\n",
    "\n",
    "def hamilton_length(points):\n",
    "    for perm in permutations(points):\n",
    "        length = 0\n",
    "        for i in range(len(perm)):\n",
    "            length += dist(perm[i], perm[(i + 1) % len(perm)])\n",
    "        yield length\n",
    "\n",
    "points = [(0,0), (1,0), (0,1)]\n",
    "list(hamilton_length(points))"
   ]
  },
  {
   "cell_type": "markdown",
   "id": "549d456e",
   "metadata": {},
   "source": [
    "Zadanie 4:\n"
   ]
  },
  {
   "cell_type": "code",
   "execution_count": null,
   "id": "360f25ab",
   "metadata": {},
   "outputs": [
    {
     "name": "stdout",
     "output_type": "stream",
     "text": [
      "Czas wykonania: 0.095116 s\n"
     ]
    }
   ],
   "source": [
    "from time import time\n",
    "from contextlib import contextmanager\n",
    "\n",
    "@contextmanager\n",
    "def czasomierz():\n",
    "    start = time()\n",
    "    yield\n",
    "    end = time()\n",
    "    print(f\"Czas wykonania: {end - start:.6f} s\")\n",
    "    \n",
    "with czasomierz():\n",
    "    sum(i**2 for i in range(10**6))\n"
   ]
  },
  {
   "cell_type": "markdown",
   "id": "8db63269",
   "metadata": {},
   "source": [
    "Zadanie 5:\n"
   ]
  },
  {
   "cell_type": "code",
   "execution_count": 3,
   "id": "418d14f4",
   "metadata": {},
   "outputs": [
    {
     "name": "stdout",
     "output_type": "stream",
     "text": [
      "None\n",
      "None\n",
      "2.0\n",
      "3.0\n",
      "4.0\n"
     ]
    }
   ],
   "source": [
    "from collections import deque\n",
    "\n",
    "def srednia_okna(n):\n",
    "    d = deque(maxlen=n)\n",
    "    suma = 0\n",
    "    while True:\n",
    "        x = yield None if len(d) < n else suma / n\n",
    "        d.append(x)\n",
    "        suma = sum(d)\n",
    "        \n",
    "s = srednia_okna(3)\n",
    "next(s)\n",
    "print(s.send(1))\n",
    "print(s.send(2))\n",
    "print(s.send(3))\n",
    "print(s.send(4))\n",
    "print(s.send(5))"
   ]
  }
 ],
 "metadata": {
  "kernelspec": {
   "display_name": "Python 3",
   "language": "python",
   "name": "python3"
  },
  "language_info": {
   "codemirror_mode": {
    "name": "ipython",
    "version": 3
   },
   "file_extension": ".py",
   "mimetype": "text/x-python",
   "name": "python",
   "nbconvert_exporter": "python",
   "pygments_lexer": "ipython3",
   "version": "3.11.2"
  }
 },
 "nbformat": 4,
 "nbformat_minor": 5
}
